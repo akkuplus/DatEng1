{
 "cells": [
  {
   "cell_type": "markdown",
   "metadata": {},
   "source": [
    "# ETL Processes\n",
    "Use this notebook to develop the ETL process for each of your tables before completing the `etl.py` file to load the whole datasets."
   ]
  },
  {
   "cell_type": "code",
   "execution_count": 1,
   "metadata": {},
   "outputs": [],
   "source": [
    "import glob\n",
    "import json\n",
    "import os\n",
    "import pandas as pd\n",
    "import psycopg2\n",
    "\n",
    "\n",
    "from sql_queries import create_table_queries, drop_table_queries, \\\n",
    "    song_table_insert, artist_table_insert, time_table_insert, user_table_insert, time_table_insert, songplay_table_insert, \\\n",
    "    song_select"
   ]
  },
  {
   "cell_type": "code",
   "execution_count": 2,
   "metadata": {},
   "outputs": [],
   "source": [
    "conn = psycopg2.connect(\"host=127.0.0.1 dbname=sparkifydb user=student password=student\")\n",
    "conn.set_session(autocommit=True)\n",
    "cur = conn.cursor()"
   ]
  },
  {
   "cell_type": "code",
   "execution_count": 3,
   "metadata": {},
   "outputs": [],
   "source": [
    "def get_files(filepath):\n",
    "    all_files = []\n",
    "    for root, dirs, files in os.walk(filepath):\n",
    "        files = glob.glob(os.path.join(root,'*.json'))\n",
    "        for f in files :\n",
    "            all_files.append(os.path.abspath(f))\n",
    "    \n",
    "    return all_files"
   ]
  },
  {
   "cell_type": "markdown",
   "metadata": {},
   "source": [
    "# Process `song_data`\n",
    "In this first part, you'll perform ETL on the first dataset, `song_data`, to create the `songs` and `artists` dimensional tables.\n",
    "\n",
    "Let's perform ETL on a single song file and load a single record into each table to start.\n",
    "- Use the `get_files` function provided above to get a list of all song JSON files in `data/song_data`\n",
    "- Select the first song in this list\n",
    "- Read the song file and view the data"
   ]
  },
  {
   "cell_type": "code",
   "execution_count": 4,
   "metadata": {
    "scrolled": true
   },
   "outputs": [
    {
     "data": {
      "text/plain": [
       "['C:\\\\Users\\\\marcus\\\\Documents\\\\_Working\\\\DatEng1\\\\data\\\\song_data\\\\A\\\\A\\\\A\\\\TRAAAAW128F429D538.json',\n",
       " 'C:\\\\Users\\\\marcus\\\\Documents\\\\_Working\\\\DatEng1\\\\data\\\\song_data\\\\A\\\\A\\\\A\\\\TRAAABD128F429CF47.json',\n",
       " 'C:\\\\Users\\\\marcus\\\\Documents\\\\_Working\\\\DatEng1\\\\data\\\\song_data\\\\A\\\\A\\\\A\\\\TRAAADZ128F9348C2E.json',\n",
       " 'C:\\\\Users\\\\marcus\\\\Documents\\\\_Working\\\\DatEng1\\\\data\\\\song_data\\\\A\\\\A\\\\A\\\\TRAAAEF128F4273421.json',\n",
       " 'C:\\\\Users\\\\marcus\\\\Documents\\\\_Working\\\\DatEng1\\\\data\\\\song_data\\\\A\\\\A\\\\A\\\\TRAAAFD128F92F423A.json']"
      ]
     },
     "execution_count": 4,
     "metadata": {},
     "output_type": "execute_result"
    }
   ],
   "source": [
    "song_files = get_files(\"data/song_data\")\n",
    "song_files[:5]"
   ]
  },
  {
   "cell_type": "code",
   "execution_count": 5,
   "metadata": {},
   "outputs": [
    {
     "data": {
      "text/plain": [
       "'C:\\\\Users\\\\marcus\\\\Documents\\\\_Working\\\\DatEng1\\\\data\\\\song_data\\\\A\\\\A\\\\A\\\\TRAAAAW128F429D538.json'"
      ]
     },
     "execution_count": 5,
     "metadata": {},
     "output_type": "execute_result"
    }
   ],
   "source": [
    "filepath = song_files[0]\n",
    "filepath"
   ]
  },
  {
   "cell_type": "code",
   "execution_count": 6,
   "metadata": {},
   "outputs": [
    {
     "data": {
      "text/plain": [
       "[{'num_songs': 1,\n",
       "  'artist_id': 'ARD7TVE1187B99BFB1',\n",
       "  'artist_latitude': None,\n",
       "  'artist_longitude': None,\n",
       "  'artist_location': 'California - LA',\n",
       "  'artist_name': 'Casual',\n",
       "  'song_id': 'SOMZWCG12A8C13C480',\n",
       "  'title': \"I Didn't Mean To\",\n",
       "  'duration': 218.93179,\n",
       "  'year': 0}]"
      ]
     },
     "execution_count": 6,
     "metadata": {},
     "output_type": "execute_result"
    }
   ],
   "source": [
    "import json\n",
    "\n",
    "with open(filepath) as fio:\n",
    "    list_of_dicts = [ # wee need a root -> wrap in list\n",
    "        json.load(fio)\n",
    "    ] \n",
    "\n",
    "list_of_dicts"
   ]
  },
  {
   "cell_type": "code",
   "execution_count": 7,
   "metadata": {},
   "outputs": [
    {
     "data": {
      "text/html": [
       "<div>\n",
       "<style scoped>\n",
       "    .dataframe tbody tr th:only-of-type {\n",
       "        vertical-align: middle;\n",
       "    }\n",
       "\n",
       "    .dataframe tbody tr th {\n",
       "        vertical-align: top;\n",
       "    }\n",
       "\n",
       "    .dataframe thead th {\n",
       "        text-align: right;\n",
       "    }\n",
       "</style>\n",
       "<table border=\"1\" class=\"dataframe\">\n",
       "  <thead>\n",
       "    <tr style=\"text-align: right;\">\n",
       "      <th></th>\n",
       "      <th>num_songs</th>\n",
       "      <th>artist_id</th>\n",
       "      <th>artist_latitude</th>\n",
       "      <th>artist_longitude</th>\n",
       "      <th>artist_location</th>\n",
       "      <th>artist_name</th>\n",
       "      <th>song_id</th>\n",
       "      <th>title</th>\n",
       "      <th>duration</th>\n",
       "      <th>year</th>\n",
       "    </tr>\n",
       "  </thead>\n",
       "  <tbody>\n",
       "    <tr>\n",
       "      <th>0</th>\n",
       "      <td>1</td>\n",
       "      <td>ARD7TVE1187B99BFB1</td>\n",
       "      <td>None</td>\n",
       "      <td>None</td>\n",
       "      <td>California - LA</td>\n",
       "      <td>Casual</td>\n",
       "      <td>SOMZWCG12A8C13C480</td>\n",
       "      <td>I Didn't Mean To</td>\n",
       "      <td>218.93179</td>\n",
       "      <td>0</td>\n",
       "    </tr>\n",
       "  </tbody>\n",
       "</table>\n",
       "</div>"
      ],
      "text/plain": [
       "   num_songs           artist_id artist_latitude artist_longitude  \\\n",
       "0          1  ARD7TVE1187B99BFB1            None             None   \n",
       "\n",
       "   artist_location artist_name             song_id             title  \\\n",
       "0  California - LA      Casual  SOMZWCG12A8C13C480  I Didn't Mean To   \n",
       "\n",
       "    duration  year  \n",
       "0  218.93179     0  "
      ]
     },
     "execution_count": 7,
     "metadata": {},
     "output_type": "execute_result"
    }
   ],
   "source": [
    "# converting json dataset from dictionary to dataframe\n",
    "df = pd.DataFrame.from_records(list_of_dicts)\n",
    "df.head()"
   ]
  },
  {
   "cell_type": "markdown",
   "metadata": {},
   "source": [
    "## #1: `songs` Table\n",
    "#### Extract Data for Songs Table\n",
    "- Select columns for song ID, title, artist ID, year, and duration\n",
    "- Use `df.values` to select just the values from the dataframe\n",
    "- Index to select the first (only) record in the dataframe\n",
    "- Convert the array to a list and set it to `song_data`"
   ]
  },
  {
   "cell_type": "code",
   "execution_count": 8,
   "metadata": {},
   "outputs": [
    {
     "data": {
      "text/plain": [
       "[('SOMZWCG12A8C13C480',\n",
       "  \"I Didn't Mean To\",\n",
       "  'ARD7TVE1187B99BFB1',\n",
       "  0,\n",
       "  218.93179)]"
      ]
     },
     "execution_count": 8,
     "metadata": {},
     "output_type": "execute_result"
    }
   ],
   "source": [
    "song_data = [\n",
    "    tuple(x) for x in df.loc[:,[\"song_id\", \"title\", \"artist_id\", \"year\", \"duration\"]].to_numpy()\n",
    "]\n",
    "\n",
    "song_data"
   ]
  },
  {
   "cell_type": "markdown",
   "metadata": {},
   "source": [
    "#### Insert Record into Song Table\n",
    "Implement the `song_table_insert` query in `sql_queries.py` and run the cell below to insert a record for this song into the `songs` table. Remember to run `create_tables.py` before running the cell below to ensure you've created/resetted the `songs` table in the sparkify database."
   ]
  },
  {
   "cell_type": "code",
   "execution_count": 9,
   "metadata": {},
   "outputs": [
    {
     "data": {
      "text/plain": [
       "'INSERT INTO songs(song_id, title, artist_id, year, duration)                         VALUES(%s, %s, %s, %s, %s)\\n                        ON CONFLICT DO NOTHING;'"
      ]
     },
     "execution_count": 9,
     "metadata": {},
     "output_type": "execute_result"
    }
   ],
   "source": [
    "song_table_insert"
   ]
  },
  {
   "cell_type": "code",
   "execution_count": 10,
   "metadata": {},
   "outputs": [],
   "source": [
    "cur.execute(song_table_insert, song_data[0])\n",
    "conn.commit()"
   ]
  },
  {
   "cell_type": "markdown",
   "metadata": {},
   "source": [
    "Run `test.ipynb` to see if you've successfully added a record to this table."
   ]
  },
  {
   "cell_type": "markdown",
   "metadata": {},
   "source": [
    "## #2: `artists` Table\n",
    "#### Extract Data for Artists Table\n",
    "- Select columns for artist ID, name, location, latitude, and longitude\n",
    "- Use `df.values` to select just the values from the dataframe\n",
    "- Index to select the first (only) record in the dataframe\n",
    "- Convert the array to a list and set it to `artist_data`"
   ]
  },
  {
   "cell_type": "code",
   "execution_count": 11,
   "metadata": {},
   "outputs": [
    {
     "data": {
      "text/plain": [
       "[('ARD7TVE1187B99BFB1', 'Casual', 'California - LA', None, None)]"
      ]
     },
     "execution_count": 11,
     "metadata": {},
     "output_type": "execute_result"
    }
   ],
   "source": [
    "artist_data = [\n",
    "    tuple(x) for x in df.loc[:,[\"artist_id\", \n",
    "                                           \"artist_name\",\n",
    "                                           \"artist_location\",\n",
    "                                           \"artist_latitude\",\n",
    "                                           \"artist_longitude\"]].to_numpy()\n",
    "]\n",
    "\n",
    "artist_data"
   ]
  },
  {
   "cell_type": "markdown",
   "metadata": {},
   "source": [
    "#### Insert Record into Artist Table\n",
    "Implement the `artist_table_insert` query in `sql_queries.py` and run the cell below to insert a record for this song's artist into the `artists` table. Remember to run `create_tables.py` before running the cell below to ensure you've created/resetted the `artists` table in the sparkify database."
   ]
  },
  {
   "cell_type": "code",
   "execution_count": 12,
   "metadata": {},
   "outputs": [
    {
     "data": {
      "text/plain": [
       "'INSERT INTO artists(artist_id, name, location, latitude, longitude)                         VALUES(%s, %s, %s, %s, %s)\\n                        ON CONFLICT DO NOTHING;'"
      ]
     },
     "execution_count": 12,
     "metadata": {},
     "output_type": "execute_result"
    }
   ],
   "source": [
    "artist_table_insert"
   ]
  },
  {
   "cell_type": "code",
   "execution_count": 13,
   "metadata": {},
   "outputs": [],
   "source": [
    "conn.rollback()\n",
    "cur.execute(artist_table_insert, artist_data[0])\n",
    "conn.commit()"
   ]
  },
  {
   "cell_type": "markdown",
   "metadata": {},
   "source": [
    "Run `test.ipynb` to see if you've successfully added a record to this table."
   ]
  },
  {
   "cell_type": "markdown",
   "metadata": {},
   "source": [
    "# Process `log_data`\n",
    "In this part, you'll perform ETL on the second dataset, `log_data`, to create the `time` and `users` dimensional tables, as well as the `songplays` fact table.\n",
    "\n",
    "Let's perform ETL on a single log file and load a single record into each table.\n",
    "- Use the `get_files` function provided above to get a list of all log JSON files in `data/log_data`\n",
    "- Select the first log file in this list\n",
    "- Read the log file and view the data"
   ]
  },
  {
   "cell_type": "code",
   "execution_count": 14,
   "metadata": {
    "scrolled": true
   },
   "outputs": [
    {
     "data": {
      "text/plain": [
       "['C:\\\\Users\\\\marcus\\\\Documents\\\\_Working\\\\DatEng1\\\\data\\\\log_data\\\\2018\\\\11\\\\2018-11-01-events.json',\n",
       " 'C:\\\\Users\\\\marcus\\\\Documents\\\\_Working\\\\DatEng1\\\\data\\\\log_data\\\\2018\\\\11\\\\2018-11-02-events.json',\n",
       " 'C:\\\\Users\\\\marcus\\\\Documents\\\\_Working\\\\DatEng1\\\\data\\\\log_data\\\\2018\\\\11\\\\2018-11-03-events.json',\n",
       " 'C:\\\\Users\\\\marcus\\\\Documents\\\\_Working\\\\DatEng1\\\\data\\\\log_data\\\\2018\\\\11\\\\2018-11-04-events.json',\n",
       " 'C:\\\\Users\\\\marcus\\\\Documents\\\\_Working\\\\DatEng1\\\\data\\\\log_data\\\\2018\\\\11\\\\2018-11-05-events.json']"
      ]
     },
     "execution_count": 14,
     "metadata": {},
     "output_type": "execute_result"
    }
   ],
   "source": [
    "log_files = song_files = get_files(\"data/log_data\")\n",
    "log_files[:5]"
   ]
  },
  {
   "cell_type": "code",
   "execution_count": 15,
   "metadata": {},
   "outputs": [
    {
     "data": {
      "text/plain": [
       "'C:\\\\Users\\\\marcus\\\\Documents\\\\_Working\\\\DatEng1\\\\data\\\\log_data\\\\2018\\\\11\\\\2018-11-01-events.json'"
      ]
     },
     "execution_count": 15,
     "metadata": {},
     "output_type": "execute_result"
    }
   ],
   "source": [
    "filepath = log_files[0]\n",
    "filepath"
   ]
  },
  {
   "cell_type": "code",
   "execution_count": 16,
   "metadata": {},
   "outputs": [
    {
     "data": {
      "text/plain": [
       "[{'artist': None,\n",
       "  'auth': 'Logged In',\n",
       "  'firstName': 'Walter',\n",
       "  'gender': 'M',\n",
       "  'itemInSession': 0,\n",
       "  'lastName': 'Frye',\n",
       "  'length': None,\n",
       "  'level': 'free',\n",
       "  'location': 'San Francisco-Oakland-Hayward, CA',\n",
       "  'method': 'GET',\n",
       "  'page': 'Home',\n",
       "  'registration': 1540919166796.0,\n",
       "  'sessionId': 38,\n",
       "  'song': None,\n",
       "  'status': 200,\n",
       "  'ts': 1541105830796,\n",
       "  'userAgent': '\"Mozilla/5.0 (Macintosh; Intel Mac OS X 10_9_4) AppleWebKit/537.36 (KHTML, like Gecko) Chrome/36.0.1985.143 Safari/537.36\"',\n",
       "  'userId': '39'},\n",
       " {'artist': None,\n",
       "  'auth': 'Logged In',\n",
       "  'firstName': 'Kaylee',\n",
       "  'gender': 'F',\n",
       "  'itemInSession': 0,\n",
       "  'lastName': 'Summers',\n",
       "  'length': None,\n",
       "  'level': 'free',\n",
       "  'location': 'Phoenix-Mesa-Scottsdale, AZ',\n",
       "  'method': 'GET',\n",
       "  'page': 'Home',\n",
       "  'registration': 1540344794796.0,\n",
       "  'sessionId': 139,\n",
       "  'song': None,\n",
       "  'status': 200,\n",
       "  'ts': 1541106106796,\n",
       "  'userAgent': '\"Mozilla/5.0 (Windows NT 6.1; WOW64) AppleWebKit/537.36 (KHTML, like Gecko) Chrome/35.0.1916.153 Safari/537.36\"',\n",
       "  'userId': '8'},\n",
       " {'artist': \"Des'ree\",\n",
       "  'auth': 'Logged In',\n",
       "  'firstName': 'Kaylee',\n",
       "  'gender': 'F',\n",
       "  'itemInSession': 1,\n",
       "  'lastName': 'Summers',\n",
       "  'length': 246.30812,\n",
       "  'level': 'free',\n",
       "  'location': 'Phoenix-Mesa-Scottsdale, AZ',\n",
       "  'method': 'PUT',\n",
       "  'page': 'NextSong',\n",
       "  'registration': 1540344794796.0,\n",
       "  'sessionId': 139,\n",
       "  'song': 'You Gotta Be',\n",
       "  'status': 200,\n",
       "  'ts': 1541106106796,\n",
       "  'userAgent': '\"Mozilla/5.0 (Windows NT 6.1; WOW64) AppleWebKit/537.36 (KHTML, like Gecko) Chrome/35.0.1916.153 Safari/537.36\"',\n",
       "  'userId': '8'},\n",
       " {'artist': None,\n",
       "  'auth': 'Logged In',\n",
       "  'firstName': 'Kaylee',\n",
       "  'gender': 'F',\n",
       "  'itemInSession': 2,\n",
       "  'lastName': 'Summers',\n",
       "  'length': None,\n",
       "  'level': 'free',\n",
       "  'location': 'Phoenix-Mesa-Scottsdale, AZ',\n",
       "  'method': 'GET',\n",
       "  'page': 'Upgrade',\n",
       "  'registration': 1540344794796.0,\n",
       "  'sessionId': 139,\n",
       "  'song': None,\n",
       "  'status': 200,\n",
       "  'ts': 1541106132796,\n",
       "  'userAgent': '\"Mozilla/5.0 (Windows NT 6.1; WOW64) AppleWebKit/537.36 (KHTML, like Gecko) Chrome/35.0.1916.153 Safari/537.36\"',\n",
       "  'userId': '8'},\n",
       " {'artist': 'Mr Oizo',\n",
       "  'auth': 'Logged In',\n",
       "  'firstName': 'Kaylee',\n",
       "  'gender': 'F',\n",
       "  'itemInSession': 3,\n",
       "  'lastName': 'Summers',\n",
       "  'length': 144.03873,\n",
       "  'level': 'free',\n",
       "  'location': 'Phoenix-Mesa-Scottsdale, AZ',\n",
       "  'method': 'PUT',\n",
       "  'page': 'NextSong',\n",
       "  'registration': 1540344794796.0,\n",
       "  'sessionId': 139,\n",
       "  'song': 'Flat 55',\n",
       "  'status': 200,\n",
       "  'ts': 1541106352796,\n",
       "  'userAgent': '\"Mozilla/5.0 (Windows NT 6.1; WOW64) AppleWebKit/537.36 (KHTML, like Gecko) Chrome/35.0.1916.153 Safari/537.36\"',\n",
       "  'userId': '8'},\n",
       " {'artist': 'Tamba Trio',\n",
       "  'auth': 'Logged In',\n",
       "  'firstName': 'Kaylee',\n",
       "  'gender': 'F',\n",
       "  'itemInSession': 4,\n",
       "  'lastName': 'Summers',\n",
       "  'length': 177.18812,\n",
       "  'level': 'free',\n",
       "  'location': 'Phoenix-Mesa-Scottsdale, AZ',\n",
       "  'method': 'PUT',\n",
       "  'page': 'NextSong',\n",
       "  'registration': 1540344794796.0,\n",
       "  'sessionId': 139,\n",
       "  'song': 'Quem Quiser Encontrar O Amor',\n",
       "  'status': 200,\n",
       "  'ts': 1541106496796,\n",
       "  'userAgent': '\"Mozilla/5.0 (Windows NT 6.1; WOW64) AppleWebKit/537.36 (KHTML, like Gecko) Chrome/35.0.1916.153 Safari/537.36\"',\n",
       "  'userId': '8'},\n",
       " {'artist': 'The Mars Volta',\n",
       "  'auth': 'Logged In',\n",
       "  'firstName': 'Kaylee',\n",
       "  'gender': 'F',\n",
       "  'itemInSession': 5,\n",
       "  'lastName': 'Summers',\n",
       "  'length': 380.42077,\n",
       "  'level': 'free',\n",
       "  'location': 'Phoenix-Mesa-Scottsdale, AZ',\n",
       "  'method': 'PUT',\n",
       "  'page': 'NextSong',\n",
       "  'registration': 1540344794796.0,\n",
       "  'sessionId': 139,\n",
       "  'song': 'Eriatarka',\n",
       "  'status': 200,\n",
       "  'ts': 1541106673796,\n",
       "  'userAgent': '\"Mozilla/5.0 (Windows NT 6.1; WOW64) AppleWebKit/537.36 (KHTML, like Gecko) Chrome/35.0.1916.153 Safari/537.36\"',\n",
       "  'userId': '8'},\n",
       " {'artist': 'Infected Mushroom',\n",
       "  'auth': 'Logged In',\n",
       "  'firstName': 'Kaylee',\n",
       "  'gender': 'F',\n",
       "  'itemInSession': 6,\n",
       "  'lastName': 'Summers',\n",
       "  'length': 440.2673,\n",
       "  'level': 'free',\n",
       "  'location': 'Phoenix-Mesa-Scottsdale, AZ',\n",
       "  'method': 'PUT',\n",
       "  'page': 'NextSong',\n",
       "  'registration': 1540344794796.0,\n",
       "  'sessionId': 139,\n",
       "  'song': 'Becoming Insane',\n",
       "  'status': 200,\n",
       "  'ts': 1541107053796,\n",
       "  'userAgent': '\"Mozilla/5.0 (Windows NT 6.1; WOW64) AppleWebKit/537.36 (KHTML, like Gecko) Chrome/35.0.1916.153 Safari/537.36\"',\n",
       "  'userId': '8'},\n",
       " {'artist': 'Blue October / Imogen Heap',\n",
       "  'auth': 'Logged In',\n",
       "  'firstName': 'Kaylee',\n",
       "  'gender': 'F',\n",
       "  'itemInSession': 7,\n",
       "  'lastName': 'Summers',\n",
       "  'length': 241.3971,\n",
       "  'level': 'free',\n",
       "  'location': 'Phoenix-Mesa-Scottsdale, AZ',\n",
       "  'method': 'PUT',\n",
       "  'page': 'NextSong',\n",
       "  'registration': 1540344794796.0,\n",
       "  'sessionId': 139,\n",
       "  'song': 'Congratulations',\n",
       "  'status': 200,\n",
       "  'ts': 1541107493796,\n",
       "  'userAgent': '\"Mozilla/5.0 (Windows NT 6.1; WOW64) AppleWebKit/537.36 (KHTML, like Gecko) Chrome/35.0.1916.153 Safari/537.36\"',\n",
       "  'userId': '8'},\n",
       " {'artist': 'Girl Talk',\n",
       "  'auth': 'Logged In',\n",
       "  'firstName': 'Kaylee',\n",
       "  'gender': 'F',\n",
       "  'itemInSession': 8,\n",
       "  'lastName': 'Summers',\n",
       "  'length': 160.15628,\n",
       "  'level': 'free',\n",
       "  'location': 'Phoenix-Mesa-Scottsdale, AZ',\n",
       "  'method': 'PUT',\n",
       "  'page': 'NextSong',\n",
       "  'registration': 1540344794796.0,\n",
       "  'sessionId': 139,\n",
       "  'song': 'Once again',\n",
       "  'status': 200,\n",
       "  'ts': 1541107734796,\n",
       "  'userAgent': '\"Mozilla/5.0 (Windows NT 6.1; WOW64) AppleWebKit/537.36 (KHTML, like Gecko) Chrome/35.0.1916.153 Safari/537.36\"',\n",
       "  'userId': '8'},\n",
       " {'artist': 'Black Eyed Peas',\n",
       "  'auth': 'Logged In',\n",
       "  'firstName': 'Sylvie',\n",
       "  'gender': 'F',\n",
       "  'itemInSession': 0,\n",
       "  'lastName': 'Cruz',\n",
       "  'length': 214.93506,\n",
       "  'level': 'free',\n",
       "  'location': 'Washington-Arlington-Alexandria, DC-VA-MD-WV',\n",
       "  'method': 'PUT',\n",
       "  'page': 'NextSong',\n",
       "  'registration': 1540266185796.0,\n",
       "  'sessionId': 9,\n",
       "  'song': 'Pump It',\n",
       "  'status': 200,\n",
       "  'ts': 1541108520796,\n",
       "  'userAgent': '\"Mozilla/5.0 (Macintosh; Intel Mac OS X 10_9_4) AppleWebKit/537.77.4 (KHTML, like Gecko) Version/7.0.5 Safari/537.77.4\"',\n",
       "  'userId': '10'},\n",
       " {'artist': None,\n",
       "  'auth': 'Logged In',\n",
       "  'firstName': 'Ryan',\n",
       "  'gender': 'M',\n",
       "  'itemInSession': 0,\n",
       "  'lastName': 'Smith',\n",
       "  'length': None,\n",
       "  'level': 'free',\n",
       "  'location': 'San Jose-Sunnyvale-Santa Clara, CA',\n",
       "  'method': 'GET',\n",
       "  'page': 'Home',\n",
       "  'registration': 1541016707796.0,\n",
       "  'sessionId': 169,\n",
       "  'song': None,\n",
       "  'status': 200,\n",
       "  'ts': 1541109015796,\n",
       "  'userAgent': '\"Mozilla/5.0 (X11; Linux x86_64) AppleWebKit/537.36 (KHTML, like Gecko) Ubuntu Chromium/36.0.1985.125 Chrome/36.0.1985.125 Safari/537.36\"',\n",
       "  'userId': '26'},\n",
       " {'artist': 'Fall Out Boy',\n",
       "  'auth': 'Logged In',\n",
       "  'firstName': 'Ryan',\n",
       "  'gender': 'M',\n",
       "  'itemInSession': 1,\n",
       "  'lastName': 'Smith',\n",
       "  'length': 200.72444,\n",
       "  'level': 'free',\n",
       "  'location': 'San Jose-Sunnyvale-Santa Clara, CA',\n",
       "  'method': 'PUT',\n",
       "  'page': 'NextSong',\n",
       "  'registration': 1541016707796.0,\n",
       "  'sessionId': 169,\n",
       "  'song': 'Nobody Puts Baby In The Corner',\n",
       "  'status': 200,\n",
       "  'ts': 1541109125796,\n",
       "  'userAgent': '\"Mozilla/5.0 (X11; Linux x86_64) AppleWebKit/537.36 (KHTML, like Gecko) Ubuntu Chromium/36.0.1985.125 Chrome/36.0.1985.125 Safari/537.36\"',\n",
       "  'userId': '26'},\n",
       " {'artist': 'M.I.A.',\n",
       "  'auth': 'Logged In',\n",
       "  'firstName': 'Ryan',\n",
       "  'gender': 'M',\n",
       "  'itemInSession': 2,\n",
       "  'lastName': 'Smith',\n",
       "  'length': 233.7171,\n",
       "  'level': 'free',\n",
       "  'location': 'San Jose-Sunnyvale-Santa Clara, CA',\n",
       "  'method': 'PUT',\n",
       "  'page': 'NextSong',\n",
       "  'registration': 1541016707796.0,\n",
       "  'sessionId': 169,\n",
       "  'song': 'Mango Pickle Down River (With The Wilcannia Mob)',\n",
       "  'status': 200,\n",
       "  'ts': 1541109325796,\n",
       "  'userAgent': '\"Mozilla/5.0 (X11; Linux x86_64) AppleWebKit/537.36 (KHTML, like Gecko) Ubuntu Chromium/36.0.1985.125 Chrome/36.0.1985.125 Safari/537.36\"',\n",
       "  'userId': '26'},\n",
       " {'artist': 'Survivor',\n",
       "  'auth': 'Logged In',\n",
       "  'firstName': 'Jayden',\n",
       "  'gender': 'M',\n",
       "  'itemInSession': 0,\n",
       "  'lastName': 'Fox',\n",
       "  'length': 245.36771,\n",
       "  'level': 'free',\n",
       "  'location': 'New Orleans-Metairie, LA',\n",
       "  'method': 'PUT',\n",
       "  'page': 'NextSong',\n",
       "  'registration': 1541033612796.0,\n",
       "  'sessionId': 100,\n",
       "  'song': 'Eye Of The Tiger',\n",
       "  'status': 200,\n",
       "  'ts': 1541110994796,\n",
       "  'userAgent': '\"Mozilla/5.0 (Windows NT 6.3; WOW64) AppleWebKit/537.36 (KHTML, like Gecko) Chrome/36.0.1985.143 Safari/537.36\"',\n",
       "  'userId': '101'}]"
      ]
     },
     "execution_count": 16,
     "metadata": {},
     "output_type": "execute_result"
    }
   ],
   "source": [
    "# Since the json has multiple rows, we need a root -> wrap in list, see https://stackoverflow.com/a/51830719\n",
    "\n",
    "list_of_dicts = [\n",
    "    json.loads(line) for line in open(filepath, 'r')\n",
    "] \n",
    "list_of_dicts"
   ]
  },
  {
   "cell_type": "code",
   "execution_count": 17,
   "metadata": {},
   "outputs": [
    {
     "data": {
      "text/html": [
       "<div>\n",
       "<style scoped>\n",
       "    .dataframe tbody tr th:only-of-type {\n",
       "        vertical-align: middle;\n",
       "    }\n",
       "\n",
       "    .dataframe tbody tr th {\n",
       "        vertical-align: top;\n",
       "    }\n",
       "\n",
       "    .dataframe thead th {\n",
       "        text-align: right;\n",
       "    }\n",
       "</style>\n",
       "<table border=\"1\" class=\"dataframe\">\n",
       "  <thead>\n",
       "    <tr style=\"text-align: right;\">\n",
       "      <th></th>\n",
       "      <th>artist</th>\n",
       "      <th>auth</th>\n",
       "      <th>firstName</th>\n",
       "      <th>gender</th>\n",
       "      <th>itemInSession</th>\n",
       "      <th>lastName</th>\n",
       "      <th>length</th>\n",
       "      <th>level</th>\n",
       "      <th>location</th>\n",
       "      <th>method</th>\n",
       "      <th>page</th>\n",
       "      <th>registration</th>\n",
       "      <th>sessionId</th>\n",
       "      <th>song</th>\n",
       "      <th>status</th>\n",
       "      <th>ts</th>\n",
       "      <th>userAgent</th>\n",
       "      <th>userId</th>\n",
       "    </tr>\n",
       "  </thead>\n",
       "  <tbody>\n",
       "    <tr>\n",
       "      <th>2</th>\n",
       "      <td>Des'ree</td>\n",
       "      <td>Logged In</td>\n",
       "      <td>Kaylee</td>\n",
       "      <td>F</td>\n",
       "      <td>1</td>\n",
       "      <td>Summers</td>\n",
       "      <td>246.30812</td>\n",
       "      <td>free</td>\n",
       "      <td>Phoenix-Mesa-Scottsdale, AZ</td>\n",
       "      <td>PUT</td>\n",
       "      <td>NextSong</td>\n",
       "      <td>1.540345e+12</td>\n",
       "      <td>139</td>\n",
       "      <td>You Gotta Be</td>\n",
       "      <td>200</td>\n",
       "      <td>1541106106796</td>\n",
       "      <td>\"Mozilla/5.0 (Windows NT 6.1; WOW64) AppleWebK...</td>\n",
       "      <td>8</td>\n",
       "    </tr>\n",
       "    <tr>\n",
       "      <th>4</th>\n",
       "      <td>Mr Oizo</td>\n",
       "      <td>Logged In</td>\n",
       "      <td>Kaylee</td>\n",
       "      <td>F</td>\n",
       "      <td>3</td>\n",
       "      <td>Summers</td>\n",
       "      <td>144.03873</td>\n",
       "      <td>free</td>\n",
       "      <td>Phoenix-Mesa-Scottsdale, AZ</td>\n",
       "      <td>PUT</td>\n",
       "      <td>NextSong</td>\n",
       "      <td>1.540345e+12</td>\n",
       "      <td>139</td>\n",
       "      <td>Flat 55</td>\n",
       "      <td>200</td>\n",
       "      <td>1541106352796</td>\n",
       "      <td>\"Mozilla/5.0 (Windows NT 6.1; WOW64) AppleWebK...</td>\n",
       "      <td>8</td>\n",
       "    </tr>\n",
       "    <tr>\n",
       "      <th>5</th>\n",
       "      <td>Tamba Trio</td>\n",
       "      <td>Logged In</td>\n",
       "      <td>Kaylee</td>\n",
       "      <td>F</td>\n",
       "      <td>4</td>\n",
       "      <td>Summers</td>\n",
       "      <td>177.18812</td>\n",
       "      <td>free</td>\n",
       "      <td>Phoenix-Mesa-Scottsdale, AZ</td>\n",
       "      <td>PUT</td>\n",
       "      <td>NextSong</td>\n",
       "      <td>1.540345e+12</td>\n",
       "      <td>139</td>\n",
       "      <td>Quem Quiser Encontrar O Amor</td>\n",
       "      <td>200</td>\n",
       "      <td>1541106496796</td>\n",
       "      <td>\"Mozilla/5.0 (Windows NT 6.1; WOW64) AppleWebK...</td>\n",
       "      <td>8</td>\n",
       "    </tr>\n",
       "    <tr>\n",
       "      <th>6</th>\n",
       "      <td>The Mars Volta</td>\n",
       "      <td>Logged In</td>\n",
       "      <td>Kaylee</td>\n",
       "      <td>F</td>\n",
       "      <td>5</td>\n",
       "      <td>Summers</td>\n",
       "      <td>380.42077</td>\n",
       "      <td>free</td>\n",
       "      <td>Phoenix-Mesa-Scottsdale, AZ</td>\n",
       "      <td>PUT</td>\n",
       "      <td>NextSong</td>\n",
       "      <td>1.540345e+12</td>\n",
       "      <td>139</td>\n",
       "      <td>Eriatarka</td>\n",
       "      <td>200</td>\n",
       "      <td>1541106673796</td>\n",
       "      <td>\"Mozilla/5.0 (Windows NT 6.1; WOW64) AppleWebK...</td>\n",
       "      <td>8</td>\n",
       "    </tr>\n",
       "    <tr>\n",
       "      <th>7</th>\n",
       "      <td>Infected Mushroom</td>\n",
       "      <td>Logged In</td>\n",
       "      <td>Kaylee</td>\n",
       "      <td>F</td>\n",
       "      <td>6</td>\n",
       "      <td>Summers</td>\n",
       "      <td>440.26730</td>\n",
       "      <td>free</td>\n",
       "      <td>Phoenix-Mesa-Scottsdale, AZ</td>\n",
       "      <td>PUT</td>\n",
       "      <td>NextSong</td>\n",
       "      <td>1.540345e+12</td>\n",
       "      <td>139</td>\n",
       "      <td>Becoming Insane</td>\n",
       "      <td>200</td>\n",
       "      <td>1541107053796</td>\n",
       "      <td>\"Mozilla/5.0 (Windows NT 6.1; WOW64) AppleWebK...</td>\n",
       "      <td>8</td>\n",
       "    </tr>\n",
       "  </tbody>\n",
       "</table>\n",
       "</div>"
      ],
      "text/plain": [
       "              artist       auth firstName gender  itemInSession lastName  \\\n",
       "2            Des'ree  Logged In    Kaylee      F              1  Summers   \n",
       "4            Mr Oizo  Logged In    Kaylee      F              3  Summers   \n",
       "5         Tamba Trio  Logged In    Kaylee      F              4  Summers   \n",
       "6     The Mars Volta  Logged In    Kaylee      F              5  Summers   \n",
       "7  Infected Mushroom  Logged In    Kaylee      F              6  Summers   \n",
       "\n",
       "      length level                     location method      page  \\\n",
       "2  246.30812  free  Phoenix-Mesa-Scottsdale, AZ    PUT  NextSong   \n",
       "4  144.03873  free  Phoenix-Mesa-Scottsdale, AZ    PUT  NextSong   \n",
       "5  177.18812  free  Phoenix-Mesa-Scottsdale, AZ    PUT  NextSong   \n",
       "6  380.42077  free  Phoenix-Mesa-Scottsdale, AZ    PUT  NextSong   \n",
       "7  440.26730  free  Phoenix-Mesa-Scottsdale, AZ    PUT  NextSong   \n",
       "\n",
       "   registration  sessionId                          song  status  \\\n",
       "2  1.540345e+12        139                  You Gotta Be     200   \n",
       "4  1.540345e+12        139                       Flat 55     200   \n",
       "5  1.540345e+12        139  Quem Quiser Encontrar O Amor     200   \n",
       "6  1.540345e+12        139                     Eriatarka     200   \n",
       "7  1.540345e+12        139               Becoming Insane     200   \n",
       "\n",
       "              ts                                          userAgent userId  \n",
       "2  1541106106796  \"Mozilla/5.0 (Windows NT 6.1; WOW64) AppleWebK...      8  \n",
       "4  1541106352796  \"Mozilla/5.0 (Windows NT 6.1; WOW64) AppleWebK...      8  \n",
       "5  1541106496796  \"Mozilla/5.0 (Windows NT 6.1; WOW64) AppleWebK...      8  \n",
       "6  1541106673796  \"Mozilla/5.0 (Windows NT 6.1; WOW64) AppleWebK...      8  \n",
       "7  1541107053796  \"Mozilla/5.0 (Windows NT 6.1; WOW64) AppleWebK...      8  "
      ]
     },
     "execution_count": 17,
     "metadata": {},
     "output_type": "execute_result"
    }
   ],
   "source": [
    "df = pd.DataFrame.from_records(list_of_dicts)\n",
    "df = df.loc[df.page==\"NextSong\"]\n",
    "df.head()"
   ]
  },
  {
   "cell_type": "markdown",
   "metadata": {},
   "source": [
    "## #3: `time` Table\n",
    "#### Extract Data for Time Table\n",
    "- Filter records by `NextSong` action\n",
    "- Convert the `ts` timestamp column to datetime\n",
    "  - Hint: the current timestamp is in milliseconds\n",
    "- Extract the timestamp, hour, day, week of year, month, year, and weekday from the `ts` column and set `time_data` to a list containing these values in order\n",
    "  - Hint: use pandas' [`dt` attribute](https://pandas.pydata.org/pandas-docs/stable/reference/api/pandas.Series.dt.html) to access easily datetimelike properties.\n",
    "- Specify labels for these columns and set to `column_labels`\n",
    "- Create a dataframe, `time_df,` containing the time data for this file by combining `column_labels` and `time_data` into a dictionary and converting this into a dataframe"
   ]
  },
  {
   "cell_type": "code",
   "execution_count": 18,
   "metadata": {},
   "outputs": [
    {
     "data": {
      "text/plain": [
       "2    2018-11-01 21:01:46.796\n",
       "4    2018-11-01 21:05:52.796\n",
       "5    2018-11-01 21:08:16.796\n",
       "6    2018-11-01 21:11:13.796\n",
       "7    2018-11-01 21:17:33.796\n",
       "8    2018-11-01 21:24:53.796\n",
       "9    2018-11-01 21:28:54.796\n",
       "10   2018-11-01 21:42:00.796\n",
       "12   2018-11-01 21:52:05.796\n",
       "13   2018-11-01 21:55:25.796\n",
       "14   2018-11-01 22:23:14.796\n",
       "Name: ts, dtype: datetime64[ns]"
      ]
     },
     "execution_count": 18,
     "metadata": {},
     "output_type": "execute_result"
    }
   ],
   "source": [
    "t = pd.to_datetime(df[\"ts\"], unit=\"ms\")\n",
    "t"
   ]
  },
  {
   "cell_type": "code",
   "execution_count": 19,
   "metadata": {},
   "outputs": [],
   "source": [
    "df[\"ts2\"] = pd.to_datetime(df[\"ts\"], unit=\"ms\")"
   ]
  },
  {
   "cell_type": "code",
   "execution_count": 20,
   "metadata": {},
   "outputs": [],
   "source": [
    "#timestamp, hour, day, week of year, month, year, and weekday\n",
    "time_data = [(r, r.hour, r.day, r.weekofyear, r.month, r.year, r.weekday())\n",
    "              for r in t]\n",
    "\n",
    "column_labels = [\"Timestamp\", \"Hour\", \"Day\", \"Weekofyear\", \"Month\", \"Year\", \"Weekday\"]"
   ]
  },
  {
   "cell_type": "code",
   "execution_count": 21,
   "metadata": {},
   "outputs": [
    {
     "data": {
      "text/html": [
       "<div>\n",
       "<style scoped>\n",
       "    .dataframe tbody tr th:only-of-type {\n",
       "        vertical-align: middle;\n",
       "    }\n",
       "\n",
       "    .dataframe tbody tr th {\n",
       "        vertical-align: top;\n",
       "    }\n",
       "\n",
       "    .dataframe thead th {\n",
       "        text-align: right;\n",
       "    }\n",
       "</style>\n",
       "<table border=\"1\" class=\"dataframe\">\n",
       "  <thead>\n",
       "    <tr style=\"text-align: right;\">\n",
       "      <th></th>\n",
       "      <th>Timestamp</th>\n",
       "      <th>Hour</th>\n",
       "      <th>Day</th>\n",
       "      <th>Weekofyear</th>\n",
       "      <th>Month</th>\n",
       "      <th>Year</th>\n",
       "      <th>Weekday</th>\n",
       "    </tr>\n",
       "  </thead>\n",
       "  <tbody>\n",
       "    <tr>\n",
       "      <th>0</th>\n",
       "      <td>2018-11-01 21:01:46.796</td>\n",
       "      <td>21</td>\n",
       "      <td>1</td>\n",
       "      <td>44</td>\n",
       "      <td>11</td>\n",
       "      <td>2018</td>\n",
       "      <td>3</td>\n",
       "    </tr>\n",
       "    <tr>\n",
       "      <th>1</th>\n",
       "      <td>2018-11-01 21:05:52.796</td>\n",
       "      <td>21</td>\n",
       "      <td>1</td>\n",
       "      <td>44</td>\n",
       "      <td>11</td>\n",
       "      <td>2018</td>\n",
       "      <td>3</td>\n",
       "    </tr>\n",
       "    <tr>\n",
       "      <th>2</th>\n",
       "      <td>2018-11-01 21:08:16.796</td>\n",
       "      <td>21</td>\n",
       "      <td>1</td>\n",
       "      <td>44</td>\n",
       "      <td>11</td>\n",
       "      <td>2018</td>\n",
       "      <td>3</td>\n",
       "    </tr>\n",
       "    <tr>\n",
       "      <th>3</th>\n",
       "      <td>2018-11-01 21:11:13.796</td>\n",
       "      <td>21</td>\n",
       "      <td>1</td>\n",
       "      <td>44</td>\n",
       "      <td>11</td>\n",
       "      <td>2018</td>\n",
       "      <td>3</td>\n",
       "    </tr>\n",
       "    <tr>\n",
       "      <th>4</th>\n",
       "      <td>2018-11-01 21:17:33.796</td>\n",
       "      <td>21</td>\n",
       "      <td>1</td>\n",
       "      <td>44</td>\n",
       "      <td>11</td>\n",
       "      <td>2018</td>\n",
       "      <td>3</td>\n",
       "    </tr>\n",
       "  </tbody>\n",
       "</table>\n",
       "</div>"
      ],
      "text/plain": [
       "                Timestamp  Hour  Day  Weekofyear  Month  Year  Weekday\n",
       "0 2018-11-01 21:01:46.796    21    1          44     11  2018        3\n",
       "1 2018-11-01 21:05:52.796    21    1          44     11  2018        3\n",
       "2 2018-11-01 21:08:16.796    21    1          44     11  2018        3\n",
       "3 2018-11-01 21:11:13.796    21    1          44     11  2018        3\n",
       "4 2018-11-01 21:17:33.796    21    1          44     11  2018        3"
      ]
     },
     "execution_count": 21,
     "metadata": {},
     "output_type": "execute_result"
    }
   ],
   "source": [
    "time_df = pd.DataFrame(time_data, columns=column_labels)\n",
    "time_df.head()"
   ]
  },
  {
   "cell_type": "markdown",
   "metadata": {},
   "source": [
    "#### Insert Records into Time Table\n",
    "Implement the `time_table_insert` query in `sql_queries.py` and run the cell below to insert records for the timestamps in this log file into the `time` table. Remember to run `create_tables.py` before running the cell below to ensure you've created/resetted the `time` table in the sparkify database."
   ]
  },
  {
   "cell_type": "code",
   "execution_count": 22,
   "metadata": {},
   "outputs": [
    {
     "data": {
      "text/plain": [
       "'INSERT INTO times(start_time, hour, day, week, month, year, weekday)                         VALUES(%s, %s, %s, %s, %s, %s, %s)\\n                        ON CONFLICT DO NOTHING;'"
      ]
     },
     "execution_count": 22,
     "metadata": {},
     "output_type": "execute_result"
    }
   ],
   "source": [
    "time_table_insert"
   ]
  },
  {
   "cell_type": "code",
   "execution_count": 23,
   "metadata": {},
   "outputs": [],
   "source": [
    "conn.rollback()\n",
    "for i, row in time_df.iterrows():\n",
    "    cur.execute(time_table_insert, list(row))\n",
    "    conn.commit()"
   ]
  },
  {
   "cell_type": "markdown",
   "metadata": {},
   "source": [
    "Run `test.ipynb` to see if you've successfully added records to this table."
   ]
  },
  {
   "cell_type": "markdown",
   "metadata": {},
   "source": [
    "## #4: `users` Table\n",
    "#### Extract Data for Users Table\n",
    "- Select columns for user ID, first name, last name, gender and level and set to `user_df`"
   ]
  },
  {
   "cell_type": "code",
   "execution_count": 24,
   "metadata": {},
   "outputs": [
    {
     "data": {
      "text/html": [
       "<div>\n",
       "<style scoped>\n",
       "    .dataframe tbody tr th:only-of-type {\n",
       "        vertical-align: middle;\n",
       "    }\n",
       "\n",
       "    .dataframe tbody tr th {\n",
       "        vertical-align: top;\n",
       "    }\n",
       "\n",
       "    .dataframe thead th {\n",
       "        text-align: right;\n",
       "    }\n",
       "</style>\n",
       "<table border=\"1\" class=\"dataframe\">\n",
       "  <thead>\n",
       "    <tr style=\"text-align: right;\">\n",
       "      <th></th>\n",
       "      <th>userId</th>\n",
       "      <th>firstName</th>\n",
       "      <th>lastName</th>\n",
       "      <th>gender</th>\n",
       "      <th>level</th>\n",
       "    </tr>\n",
       "  </thead>\n",
       "  <tbody>\n",
       "    <tr>\n",
       "      <th>2</th>\n",
       "      <td>8</td>\n",
       "      <td>Kaylee</td>\n",
       "      <td>Summers</td>\n",
       "      <td>F</td>\n",
       "      <td>free</td>\n",
       "    </tr>\n",
       "    <tr>\n",
       "      <th>10</th>\n",
       "      <td>10</td>\n",
       "      <td>Sylvie</td>\n",
       "      <td>Cruz</td>\n",
       "      <td>F</td>\n",
       "      <td>free</td>\n",
       "    </tr>\n",
       "    <tr>\n",
       "      <th>12</th>\n",
       "      <td>26</td>\n",
       "      <td>Ryan</td>\n",
       "      <td>Smith</td>\n",
       "      <td>M</td>\n",
       "      <td>free</td>\n",
       "    </tr>\n",
       "    <tr>\n",
       "      <th>14</th>\n",
       "      <td>101</td>\n",
       "      <td>Jayden</td>\n",
       "      <td>Fox</td>\n",
       "      <td>M</td>\n",
       "      <td>free</td>\n",
       "    </tr>\n",
       "  </tbody>\n",
       "</table>\n",
       "</div>"
      ],
      "text/plain": [
       "   userId firstName lastName gender level\n",
       "2       8    Kaylee  Summers      F  free\n",
       "10     10    Sylvie     Cruz      F  free\n",
       "12     26      Ryan    Smith      M  free\n",
       "14    101    Jayden      Fox      M  free"
      ]
     },
     "execution_count": 24,
     "metadata": {},
     "output_type": "execute_result"
    }
   ],
   "source": [
    "user_df = df.loc[:,['userId','firstName','lastName','gender','level']].drop_duplicates()\n",
    "user_df"
   ]
  },
  {
   "cell_type": "markdown",
   "metadata": {},
   "source": [
    "#### Insert Records into Users Table\n",
    "Implement the `user_table_insert` query in `sql_queries.py` and run the cell below to insert records for the users in this log file into the `users` table. Remember to run `create_tables.py` before running the cell below to ensure you've created/resetted the `users` table in the sparkify database."
   ]
  },
  {
   "cell_type": "code",
   "execution_count": 25,
   "metadata": {},
   "outputs": [
    {
     "data": {
      "text/plain": [
       "'INSERt INTO users(user_id, first_name, last_name, gender, level)\\n                        VALUES(%s, %s, %s, %s, %s)\\n                        ON CONFLICT DO NOTHING;'"
      ]
     },
     "execution_count": 25,
     "metadata": {},
     "output_type": "execute_result"
    }
   ],
   "source": [
    "user_table_insert"
   ]
  },
  {
   "cell_type": "code",
   "execution_count": 26,
   "metadata": {},
   "outputs": [],
   "source": [
    "for i, row in user_df.iterrows():\n",
    "    cur.execute(user_table_insert, row)\n",
    "    conn.commit()"
   ]
  },
  {
   "cell_type": "markdown",
   "metadata": {},
   "source": [
    "Run `test.ipynb` to see if you've successfully added records to this table."
   ]
  },
  {
   "cell_type": "markdown",
   "metadata": {},
   "source": [
    "## #5: `songplays` Table\n",
    "#### Extract Data and Songplays Table\n",
    "This one is a little more complicated since information from the songs table, artists table, and original log file are all needed for the `songplays` table. Since the log file does not specify an ID for either the song or the artist, you'll need to get the song ID and artist ID by querying the songs and artists tables to find matches based on song title, artist name, and song duration time.\n",
    "- Implement the `song_select` query in `sql_queries.py` to find the song ID and artist ID based on the title, artist name, and duration of a song.\n",
    "- Select the timestamp, user ID, level, song ID, artist ID, session ID, location, and user agent and set to `songplay_data`\n",
    "\n",
    "#### Insert Records into Songplays Table\n",
    "- Implement the `songplay_table_insert` query and run the cell below to insert records for the songplay actions in this log file into the `songplays` table. Remember to run `create_tables.py` before running the cell below to ensure you've created/resetted the `songplays` table in the sparkify database."
   ]
  },
  {
   "cell_type": "code",
   "execution_count": 27,
   "metadata": {
    "scrolled": true
   },
   "outputs": [
    {
     "data": {
      "text/html": [
       "<div>\n",
       "<style scoped>\n",
       "    .dataframe tbody tr th:only-of-type {\n",
       "        vertical-align: middle;\n",
       "    }\n",
       "\n",
       "    .dataframe tbody tr th {\n",
       "        vertical-align: top;\n",
       "    }\n",
       "\n",
       "    .dataframe thead th {\n",
       "        text-align: right;\n",
       "    }\n",
       "</style>\n",
       "<table border=\"1\" class=\"dataframe\">\n",
       "  <thead>\n",
       "    <tr style=\"text-align: right;\">\n",
       "      <th></th>\n",
       "      <th>song</th>\n",
       "      <th>artist</th>\n",
       "      <th>length</th>\n",
       "    </tr>\n",
       "  </thead>\n",
       "  <tbody>\n",
       "    <tr>\n",
       "      <th>2</th>\n",
       "      <td>You Gotta Be</td>\n",
       "      <td>Des'ree</td>\n",
       "      <td>246.30812</td>\n",
       "    </tr>\n",
       "    <tr>\n",
       "      <th>4</th>\n",
       "      <td>Flat 55</td>\n",
       "      <td>Mr Oizo</td>\n",
       "      <td>144.03873</td>\n",
       "    </tr>\n",
       "    <tr>\n",
       "      <th>5</th>\n",
       "      <td>Quem Quiser Encontrar O Amor</td>\n",
       "      <td>Tamba Trio</td>\n",
       "      <td>177.18812</td>\n",
       "    </tr>\n",
       "    <tr>\n",
       "      <th>6</th>\n",
       "      <td>Eriatarka</td>\n",
       "      <td>The Mars Volta</td>\n",
       "      <td>380.42077</td>\n",
       "    </tr>\n",
       "    <tr>\n",
       "      <th>7</th>\n",
       "      <td>Becoming Insane</td>\n",
       "      <td>Infected Mushroom</td>\n",
       "      <td>440.26730</td>\n",
       "    </tr>\n",
       "  </tbody>\n",
       "</table>\n",
       "</div>"
      ],
      "text/plain": [
       "                           song             artist     length\n",
       "2                  You Gotta Be            Des'ree  246.30812\n",
       "4                       Flat 55            Mr Oizo  144.03873\n",
       "5  Quem Quiser Encontrar O Amor         Tamba Trio  177.18812\n",
       "6                     Eriatarka     The Mars Volta  380.42077\n",
       "7               Becoming Insane  Infected Mushroom  440.26730"
      ]
     },
     "execution_count": 27,
     "metadata": {},
     "output_type": "execute_result"
    }
   ],
   "source": [
    "df.loc[:,[\"song\", \"artist\", \"length\"]].head()"
   ]
  },
  {
   "cell_type": "code",
   "execution_count": 28,
   "metadata": {},
   "outputs": [],
   "source": [
    "for index, row in df.iterrows():\n",
    "\n",
    "    # get songid and artistid from song and artist tables\n",
    "    cur.execute(song_select, (row.song, row.artist, row.length))\n",
    "    results = cur.fetchone()\n",
    "    \n",
    "    if results:\n",
    "        songid, artistid = results\n",
    "    else:\n",
    "        songid, artistid = None, None\n",
    "\n",
    "    # insert songplay record\n",
    "        # if no match (song title, artist name, song length) exists, insert row in songplay with NONE as ID\n",
    "    songplay_data = (row.ts2, row.userId, row.level, songid, artistid, row.sessionId, row.location, row.userAgent)\n",
    "    #print(songplay_data)\n",
    "\n",
    "    cur.execute(songplay_table_insert, songplay_data)\n",
    "    conn.commit()"
   ]
  },
  {
   "cell_type": "markdown",
   "metadata": {},
   "source": [
    "Run `test.ipynb` to see if you've successfully added records to this table."
   ]
  },
  {
   "cell_type": "markdown",
   "metadata": {},
   "source": [
    "# Close Connection to Sparkify Database"
   ]
  },
  {
   "cell_type": "code",
   "execution_count": 29,
   "metadata": {},
   "outputs": [],
   "source": [
    "conn.close()"
   ]
  },
  {
   "cell_type": "markdown",
   "metadata": {},
   "source": [
    "# Implement `etl.py`\n",
    "Use what you've completed in this notebook to implement `etl.py`."
   ]
  }
 ],
 "metadata": {
  "kernelspec": {
   "display_name": "Python 3",
   "language": "python",
   "name": "python3"
  },
  "language_info": {
   "codemirror_mode": {
    "name": "ipython",
    "version": 3
   },
   "file_extension": ".py",
   "mimetype": "text/x-python",
   "name": "python",
   "nbconvert_exporter": "python",
   "pygments_lexer": "ipython3",
   "version": "3.8.2"
  }
 },
 "nbformat": 4,
 "nbformat_minor": 2
}